{
 "cells": [
  {
   "cell_type": "code",
   "execution_count": 207,
   "metadata": {},
   "outputs": [],
   "source": [
    "import pandas as pd\n",
    "from pulp import *\n",
    "import openpyxl\n",
    "import re\n",
    "import plotly.express as px"
   ]
  },
  {
   "cell_type": "code",
   "execution_count": 208,
   "metadata": {},
   "outputs": [],
   "source": [
    "wb = openpyxl.Workbook()\n",
    "ws = wb.active"
   ]
  },
  {
   "cell_type": "code",
   "execution_count": 209,
   "metadata": {},
   "outputs": [],
   "source": [
    "players = pd.read_excel(\"auc_values_ALL.xlsx\",\n",
    "                      usecols= [\"Value\", \"Pts\", \"Name\", \"Pos\"])"
   ]
  },
  {
   "cell_type": "code",
   "execution_count": 210,
   "metadata": {},
   "outputs": [
    {
     "data": {
      "text/html": [
       "<div>\n",
       "<style scoped>\n",
       "    .dataframe tbody tr th:only-of-type {\n",
       "        vertical-align: middle;\n",
       "    }\n",
       "\n",
       "    .dataframe tbody tr th {\n",
       "        vertical-align: top;\n",
       "    }\n",
       "\n",
       "    .dataframe thead th {\n",
       "        text-align: right;\n",
       "    }\n",
       "</style>\n",
       "<table border=\"1\" class=\"dataframe\">\n",
       "  <thead>\n",
       "    <tr style=\"text-align: right;\">\n",
       "      <th></th>\n",
       "      <th>Value</th>\n",
       "      <th>Name</th>\n",
       "      <th>Pos</th>\n",
       "      <th>Pts</th>\n",
       "    </tr>\n",
       "  </thead>\n",
       "  <tbody>\n",
       "    <tr>\n",
       "      <td>0</td>\n",
       "      <td>72</td>\n",
       "      <td>Jonathan Taylor</td>\n",
       "      <td>RB</td>\n",
       "      <td>287</td>\n",
       "    </tr>\n",
       "    <tr>\n",
       "      <td>1</td>\n",
       "      <td>63</td>\n",
       "      <td>Derrick Henry</td>\n",
       "      <td>RB</td>\n",
       "      <td>266</td>\n",
       "    </tr>\n",
       "    <tr>\n",
       "      <td>2</td>\n",
       "      <td>55</td>\n",
       "      <td>Dalvin Cook</td>\n",
       "      <td>RB</td>\n",
       "      <td>243</td>\n",
       "    </tr>\n",
       "    <tr>\n",
       "      <td>3</td>\n",
       "      <td>54</td>\n",
       "      <td>Nick Chubb</td>\n",
       "      <td>RB</td>\n",
       "      <td>239</td>\n",
       "    </tr>\n",
       "    <tr>\n",
       "      <td>4</td>\n",
       "      <td>54</td>\n",
       "      <td>Christian McCaffrey</td>\n",
       "      <td>RB</td>\n",
       "      <td>239</td>\n",
       "    </tr>\n",
       "  </tbody>\n",
       "</table>\n",
       "</div>"
      ],
      "text/plain": [
       "   Value                 Name Pos  Pts\n",
       "0     72      Jonathan Taylor  RB  287\n",
       "1     63        Derrick Henry  RB  266\n",
       "2     55          Dalvin Cook  RB  243\n",
       "3     54           Nick Chubb  RB  239\n",
       "4     54  Christian McCaffrey  RB  239"
      ]
     },
     "execution_count": 210,
     "metadata": {},
     "output_type": "execute_result"
    }
   ],
   "source": [
    "players.head()"
   ]
  },
  {
   "cell_type": "code",
   "execution_count": 211,
   "metadata": {},
   "outputs": [
    {
     "data": {
      "application/vnd.plotly.v1+json": {
       "config": {
        "plotlyServerURL": "https://plot.ly"
       },
       "data": [
        {
         "hoverlabel": {
          "namelength": 0
         },
         "hovertemplate": "<b>%{hovertext}</b><br><br>Value=%{x}<br>Pts=%{y}",
         "hovertext": [
          "Jonathan Taylor",
          "Derrick Henry",
          "Dalvin Cook",
          "Nick Chubb",
          "Christian McCaffrey",
          "Joe Mixon",
          "Austin Ekeler",
          "Najee Harris",
          "Javonte Williams",
          "Leonard Fournette",
          "Alvin Kamara",
          "James Conner",
          "Antonio Gibson",
          "David Montgomery",
          "Saquon Barkley",
          "D'Andre Swift",
          "Aaron Jones",
          "Cooper Kupp",
          "Ja'Marr Chase",
          "Justin Jefferson",
          "Cam Akers",
          "Deebo Samuel",
          "Ezekiel Elliott",
          "Josh Jacobs",
          "A.J. Brown",
          "CeeDee Lamb",
          "Travis Kelce",
          "J.K. Dobbins",
          "Elijah Mitchell",
          "Devin Singletary",
          "Damien Harris",
          "Mike Evans",
          "Tyreek Hill",
          "Stefon Diggs",
          "Davante Adams",
          "AJ Dillon",
          "Rashaad Penny",
          "Josh Allen",
          "Tee Higgins",
          "Michael Carter",
          "Mark Andrews",
          "D.K. Metcalf",
          "Clyde Edwards-Helaire",
          "DeAndre Hopkins",
          "Jaylen Waddle",
          "Amari Cooper",
          "Diontae Johnson",
          "Travis Etienne",
          "Patrick Mahomes",
          "D.J. Moore",
          "Kyle Pitts",
          "Cordarrelle Patterson",
          "Justin Herbert",
          "Rhamondre Stevenson",
          "Keenan Allen",
          "James Robinson",
          "Michael Pittman, Jr.",
          "Terry McLaurin",
          "Marquise Brown",
          "Melvin Gordon",
          "Miles Sanders",
          "Elijah Moore",
          "Gabriel Davis",
          "Tony Pollard",
          "Courtland Sutton",
          "Jerry Jeudy",
          "Mike Williams",
          "Chris Godwin",
          "Darnell Mooney",
          "Chase Edmonds",
          "Brandin Cooks",
          "DeVonta Smith",
          "Kareem Hunt",
          "Darren Waller",
          "Amon-Ra St. Brown",
          "Juju Smith-Schuster",
          "George Kittle",
          "Kadarius Toney",
          "Lamar Jackson",
          "Joe Burrow",
          "Tom Brady",
          "Michael Thomas",
          "Kyler Murray",
          "Chase Claypool",
          "Tyler Lockett",
          "Dalton Schultz",
          "Adam Thielen",
          "Hunter Renfrow",
          "Brandon Aiyuk",
          "Dallas Goedert",
          "Allen Robinson",
          "Russell Wilson",
          "Zach Ertz",
          "T.J. Hockenson",
          "Matthew Stafford",
          "Marquez Valdes-Scantling",
          "Aaron Rodgers",
          "Dak Prescott",
          "Robert Woods",
          "Rob Gronkowski",
          "Allen Lazard",
          "Michael Gallup",
          "Mike Gesicki",
          "Kenny Golladay",
          "Mecole Hardman",
          "Jalen Hurts",
          "Christian Kirk",
          "Rashod Bateman",
          "Dawson Knox",
          "Rondale Moore",
          "Hunter Henry",
          "D.J. Chark",
          "DeShaun Watson",
          "Gus Edwards",
          "Tyler Boyd",
          "Odell Beckham",
          "Pat Freiermuth",
          "Khalil Herbert",
          "Russell Gage",
          "Jakobi Meyers",
          "Albert Okwuegbunam",
          "Evan McPherson",
          "DeVante Parker",
          "Jarvis Landry",
          "Tyler Bass",
          "Matthew Gay",
          "Trey Lance",
          "Justin Tucker",
          "Braxton Berrios",
          "Logan Thomas",
          "Derek Carr",
          "Sony Michel",
          "Tyler Higbee",
          "Curtis Samuel",
          "Tim Patrick",
          "Harrison Butker",
          "Matt Prater",
          "Daniel Carlson",
          "Noah Fant",
          "Kirk Cousins",
          "Justin Fields",
          "Trevor Lawrence",
          "Tua Tagovailoa",
          "Ryan Tannehill",
          "Nick Folk",
          "Dustin Hopkins",
          "Chris Boswell",
          "Robbie Gould",
          "Randy Bullock",
          "Ryan Succop",
          "Younghoe Koo",
          "Robby Anderson",
          "Corey Davis",
          "D'Onta Foreman",
          "Alexander Mattison",
          "Ronald Jones II",
          "Cole Kmet",
          "Irv Smith Jr.",
          "David Njoku",
          "Jake Elliott",
          "Darrell Henderson",
          "Kendrick Bourne",
          "Greg Zuerlein",
          "Jamaal Williams",
          "Graham Gano",
          "Wil Lutz",
          "Brandon McManus",
          "Jason Sanders",
          "Mason Crosby",
          "Julio Jones",
          "Marvin Jones",
          "Chris Carson",
          "Donovan Peoples-Jones",
          "Greg Joseph",
          "Marquez Callaway",
          "Cairo Santos",
          "Jason Myers",
          "Will Fuller",
          "Ka'imi Fairbairn",
          "Van Jefferson",
          "Austin Seibert",
          "Rodrigo Blankenship",
          "Zane Gonzalez",
          "Jamison Crowder",
          "Joey Slye",
          "Raheem Mostert",
          "K.J. Osborn",
          "A.J. Green",
          "Gerald Everett",
          "Antonio Brown",
          "Chase McLaughlin",
          "Cedrick Wilson",
          "Quez Watkins",
          "Randall Cobb",
          "Devontae Booker",
          "Nyheim Hines",
          "Austin Hooper",
          "Zay Jones",
          "Duke Johnson",
          "Ryan Santoso",
          "Nico Collins",
          "Kenneth Gainwell",
          "Byron Pringle",
          "Sterling Shepard",
          "Mo Alie-Cox",
          "Hayden Hurst",
          "Robert Tonyan",
          "Evan Engram",
          "Brevin Jordan",
          "Mac Jones",
          "Kenyan Drake",
          "Myles Gaskin",
          "Boston Scott",
          "Deonte Harris",
          "C.J. Uzomah",
          "Josh Reynolds",
          "Sammy Watkins",
          "Mike Davis",
          "Darrel Williams",
          "James Washington",
          "Samaje Perine",
          "Isaiah McKenzie",
          "Terrace Marshall",
          "Nelson Agholor",
          "Josh Palmer",
          "J.D. McKissic",
          "Darius Slayton",
          "Nick Westbrook-Ikhine",
          "Daniel Jones",
          "Parris Campbell",
          "Zach Wilson",
          "O.J. Howard",
          "Laviska Shenault",
          "Justin Jackson",
          "Jared Cook",
          "Harrison Bryant",
          "Adam Trautman",
          "Amari Rodgers",
          "Bryan Edwards",
          "Anthony Schwartz",
          "Tutu Atwell",
          "Cameron Brate",
          "Devin Duvernay",
          "Jonnu Smith",
          "Marlon Mack",
          "Dan Arnold",
          "D'Ernest Johnson",
          "Brett Maher",
          "Rex Burkhead",
          "Matt Ryan",
          "Donald Parham",
          "Mark Ingram",
          "Ty Johnson",
          "Jauan Jennings",
          "Jalen Guyton",
          "Michael Badgley",
          "T.Y. Hilton",
          "Cole Beasley",
          "Jerick McKinnon",
          "Tommy Tremble",
          "Tevin Coleman",
          "Olamide Zaccheaus",
          "D'Wayne Eskridge",
          "Emmanuel Sanders",
          "Jalen Reagor",
          "Tyler Conklin",
          "Ricky Seals-Jones",
          "Tre'Quan Smith",
          "Stephen Gostkowski",
          "Cody Parkey",
          "Foster Moreau",
          "Trey Sermon",
          "KJ Hamler",
          "Tarik Cohen",
          "Zack Moss",
          "Aldrick Rosas",
          "Quintez Cephus",
          "Jared Goff",
          "Zach Pascal",
          "Kalif Raymond",
          "Laquon Treadwell",
          "Jaret Patterson",
          "Ke'Shawn Vaughn",
          "Matt Breida",
          "Adam Humphries",
          "Steven Hauschka",
          "Kai Forbath",
          "Dan Bailey",
          "Phillip Lindsay",
          "Eno Benjamin",
          "Antoine Wesley",
          "Latavius Murray",
          "Carlos Hyde",
          "Drew Sample",
          "Mitchell Trubisky",
          "Kylen Granson",
          "Josiah Deguara",
          "Tristan Vizcaino",
          "Mike Nugent",
          "Derrick Gore",
          "Quinn Nordin",
          "Denzel Mims",
          "Benny Snell",
          "Kene Nwangwu",
          "Chris Naggar",
          "Matt Ammendola",
          "Josh Lambo",
          "James White",
          "Anthony Firkser",
          "Pharaoh Brown",
          "Nick Boyle",
          "Durham Smythe",
          "Ray-Ray McCloud",
          "Chris Conley",
          "DeAndre Carter",
          "Sam Ficken",
          "Sam Sloman",
          "Tucker McCann",
          "KhaDarel Hodge",
          "Jameis Winston",
          "Kyle Rudolph",
          "Tony Jones",
          "Ryan Griffin",
          "James O'Shaughnessy",
          "Ian Thomas",
          "Blake Jarwin",
          "Juwan Johnson",
          "Carson Wentz",
          "Demarcus Robinson",
          "Will Dissly",
          "Freddie Swain",
          "Rashard Higgins",
          "Royce Freeman",
          "Ameer Abdullah",
          "Dyami Brown",
          "Tyler Johnson",
          "Geoff Swaim",
          "Chuba Hubbard",
          "John Bates",
          "Baker Mayfield",
          "Blake Bell",
          "Albert Wilson",
          "Maxx Williams",
          "JaMycal Hasty",
          "Damien Williams",
          "Zach Gentry",
          "Joshua Kelley",
          "Jamal Agnew",
          "Breshad Perriman",
          "Damiere Byrd",
          "Jordan Howard",
          "Ross Dwelley",
          "Dez Fitzpatrick",
          "DeeJay Dallas",
          "Jacob Hollister",
          "Jakeem Grant",
          "Demetric Felton",
          "Dare Ogunbowale",
          "Devonta Freeman",
          "Chris Evans",
          "Wayne Gallman",
          "Nick Vannett",
          "Noah Gray",
          "Ashton Dulin",
          "Brandon Zylstra",
          "Noah Brown",
          "Preston Williams",
          "Giovani Bernard",
          "Larry Rountree",
          "Tre' McKitty",
          "Jimmy Garoppolo",
          "Kyle Juszczyk",
          "Auden Tate",
          "N'Keal Harry",
          "James Proche",
          "Malcolm Brown",
          "Bisi Johnson",
          "Drew Lock",
          "Alex Collins",
          "Mack Hollins",
          "David Johnson",
          "Brandon Bolden",
          "Scotty Miller",
          "Jeff Wilson",
          "Dazz Newsome",
          "Lamical Perine",
          "Jake Funk",
          "Anthony Miller",
          "Greg Ward",
          "Salvon Ahmed",
          "Cam Sims",
          "Jalen Richard",
          "Lil'Jordan Humphrey",
          "Equanimeous St. Brown",
          "Gary Brightwell",
          "Travis Homer",
          "Lynn Bowden",
          "Dezmon Patmon",
          "Ihmir Smith-Marsette",
          "Ben Skowronek",
          "Jermar Jefferson",
          "Kylin Hill",
          "Tylan Wallace",
          "Mike Thomas",
          "Cornell Powell",
          "Darrynton Evans",
          "Godwin Igwebuike",
          "Davis Mills",
          "Joe Reed",
          "Mike Strachan",
          "J.J. Taylor",
          "Jordan Wilkins",
          "Justice Hill",
          "Jack Doyle",
          "Mike Boone",
          "Ty Montgomery",
          "Marcus Mariota",
          "Anthony McFarland",
          "Trent Sherfield",
          "Richie James",
          "Calvin Ridley",
          "Trent Taylor",
          "Gunner Olszewski",
          "Jaelon Darden",
          "Shi Smith",
          "Dax Milne",
          "Sam Darnold",
          "Taysom Hill",
          "Teddy Bridgewater",
          "Taylor Heinicke",
          "Gardner Minshew",
          "Cam Newton",
          "Andy Dalton",
          "Jordan Love",
          "Tyrod Taylor",
          "Ryan Fitzpatrick",
          "Jacoby Brissett",
          "Mason Rudolph",
          "Case Keenum",
          "John Wolford",
          "C.J. Beathard",
          "Joe Flacco",
          "Sam Ehlinger",
          "Hunter Niswander"
         ],
         "legendgroup": "",
         "marker": {
          "color": "#636efa",
          "symbol": "circle"
         },
         "mode": "markers",
         "name": "",
         "showlegend": false,
         "type": "scatter",
         "x": [
          72,
          63,
          55,
          54,
          54,
          53,
          51,
          50,
          49,
          47,
          47,
          47,
          46,
          43,
          41,
          41,
          40,
          40,
          40,
          40,
          39,
          36,
          35,
          34,
          34,
          34,
          30,
          29,
          29,
          29,
          28,
          28,
          27,
          27,
          27,
          27,
          26,
          26,
          26,
          26,
          26,
          25,
          24,
          23,
          23,
          23,
          23,
          23,
          23,
          22,
          22,
          22,
          21,
          21,
          21,
          20,
          20,
          20,
          20,
          20,
          18,
          18,
          18,
          18,
          18,
          17,
          17,
          17,
          17,
          17,
          16,
          16,
          16,
          16,
          16,
          15,
          15,
          15,
          15,
          14,
          14,
          14,
          14,
          13,
          13,
          12,
          11,
          11,
          11,
          11,
          11,
          11,
          10,
          10,
          10,
          8,
          8,
          8,
          8,
          8,
          8,
          8,
          7,
          7,
          7,
          7,
          6,
          6,
          6,
          6,
          6,
          5,
          5,
          5,
          5,
          5,
          4,
          4,
          3,
          3,
          3,
          3,
          3,
          3,
          3,
          3,
          2,
          2,
          2,
          2,
          2,
          2,
          2,
          2,
          2,
          2,
          2,
          1,
          1,
          1,
          1,
          1,
          1,
          1,
          1,
          1,
          1,
          1,
          1,
          1,
          1,
          1,
          1,
          1,
          1,
          1,
          1,
          1,
          1,
          0,
          0,
          0,
          0,
          0,
          0,
          -1,
          -1,
          -1,
          -1,
          -1,
          -1,
          -1,
          -1,
          -1,
          -2,
          -2,
          -2,
          -2,
          -2,
          -2,
          -2,
          -3,
          -3,
          -3,
          -3,
          -4,
          -4,
          -4,
          -4,
          -4,
          -4,
          -4,
          -5,
          -5,
          -5,
          -5,
          -5,
          -5,
          -5,
          -6,
          -6,
          -6,
          -6,
          -6,
          -7,
          -7,
          -7,
          -7,
          -7,
          -7,
          -7,
          -7,
          -8,
          -8,
          -8,
          -8,
          -9,
          -9,
          -9,
          -9,
          -10,
          -10,
          -10,
          -10,
          -10,
          -10,
          -10,
          -10,
          -10,
          -11,
          -11,
          -11,
          -11,
          -11,
          -11,
          -11,
          -11,
          -11,
          -12,
          -12,
          -12,
          -12,
          -13,
          -13,
          -13,
          -13,
          -13,
          -13,
          -14,
          -14,
          -14,
          -14,
          -14,
          -14,
          -14,
          -14,
          -15,
          -15,
          -15,
          -15,
          -15,
          -15,
          -15,
          -15,
          -15,
          -16,
          -16,
          -16,
          -16,
          -16,
          -16,
          -16,
          -16,
          -17,
          -17,
          -17,
          -17,
          -17,
          -17,
          -17,
          -17,
          -17,
          -17,
          -18,
          -18,
          -18,
          -18,
          -18,
          -18,
          -18,
          -18,
          -18,
          -18,
          -18,
          -18,
          -18,
          -18,
          -18,
          -18,
          -19,
          -19,
          -19,
          -19,
          -19,
          -19,
          -19,
          -19,
          -19,
          -19,
          -19,
          -19,
          -20,
          -20,
          -20,
          -20,
          -20,
          -20,
          -20,
          -20,
          -20,
          -20,
          -20,
          -21,
          -21,
          -21,
          -21,
          -21,
          -21,
          -21,
          -21,
          -21,
          -21,
          -22,
          -22,
          -22,
          -22,
          -23,
          -23,
          -23,
          -23,
          -23,
          -23,
          -24,
          -24,
          -24,
          -24,
          -24,
          -24,
          -24,
          -24,
          -25,
          -25,
          -25,
          -25,
          -25,
          -25,
          -25,
          -25,
          -25,
          -25,
          -25,
          -25,
          -25,
          -26,
          -26,
          -26,
          -26,
          -26,
          -26,
          -26,
          -26,
          -26,
          -26,
          -26,
          -26,
          -26,
          -26,
          -26,
          -26,
          -26,
          -26,
          -26,
          -27,
          -27,
          -27,
          -27,
          -27,
          -27,
          -27,
          -27,
          -28,
          -28,
          -28,
          -28,
          -28,
          -28,
          -28,
          -28,
          -29,
          -29,
          -29,
          -29,
          -29,
          -29,
          -29,
          -29,
          -30,
          -30,
          -30,
          -31,
          -31,
          -31,
          -31,
          -31,
          -32,
          -32,
          -32,
          -32,
          -33,
          -35,
          -35,
          -35,
          -35,
          -35,
          -35,
          -35,
          -84,
          -92,
          -98,
          -100,
          -100,
          -105,
          -106,
          -106,
          -111,
          -113,
          -117,
          -117,
          -117,
          -118,
          -119,
          -119,
          -120,
          0
         ],
         "xaxis": "x",
         "y": [
          287,
          266,
          243,
          239,
          239,
          238,
          232,
          228,
          227,
          221,
          221,
          220,
          219,
          209,
          204,
          204,
          203,
          204,
          204,
          204,
          200,
          193,
          189,
          187,
          188,
          187,
          165,
          173,
          173,
          173,
          169,
          170,
          169,
          169,
          169,
          167,
          165,
          426,
          165,
          163,
          154,
          163,
          160,
          158,
          158,
          157,
          157,
          155,
          414,
          155,
          145,
          152,
          410,
          151,
          152,
          149,
          149,
          149,
          148,
          146,
          142,
          143,
          143,
          141,
          143,
          143,
          142,
          142,
          142,
          139,
          140,
          140,
          138,
          129,
          139,
          136,
          126,
          136,
          387,
          386,
          385,
          133,
          384,
          130,
          129,
          117,
          126,
          125,
          125,
          115,
          124,
          373,
          113,
          113,
          371,
          118,
          365,
          365,
          117,
          106,
          116,
          116,
          105,
          114,
          114,
          360,
          111,
          111,
          101,
          111,
          100,
          110,
          356,
          108,
          108,
          108,
          95,
          103,
          104,
          104,
          94,
          135,
          103,
          103,
          134,
          134,
          346,
          131,
          101,
          91,
          344,
          99,
          90,
          100,
          100,
          128,
          127,
          126,
          88,
          341,
          340,
          339,
          339,
          338,
          122,
          122,
          122,
          121,
          121,
          120,
          120,
          97,
          96,
          96,
          95,
          95,
          86,
          86,
          85,
          119,
          94,
          95,
          118,
          93,
          117,
          115,
          115,
          115,
          114,
          92,
          92,
          90,
          92,
          112,
          91,
          109,
          109,
          90,
          107,
          89,
          106,
          105,
          105,
          88,
          102,
          84,
          85,
          85,
          74,
          84,
          96,
          83,
          83,
          83,
          80,
          79,
          71,
          81,
          79,
          90,
          80,
          77,
          79,
          78,
          67,
          67,
          67,
          67,
          67,
          319,
          75,
          73,
          73,
          73,
          63,
          73,
          72,
          70,
          70,
          71,
          68,
          69,
          68,
          68,
          67,
          66,
          67,
          67,
          309,
          67,
          309,
          56,
          66,
          64,
          55,
          55,
          54,
          64,
          64,
          63,
          63,
          52,
          61,
          50,
          58,
          50,
          58,
          49,
          56,
          300,
          47,
          55,
          55,
          57,
          57,
          43,
          55,
          55,
          53,
          44,
          52,
          54,
          54,
          54,
          53,
          43,
          43,
          52,
          36,
          34,
          41,
          49,
          51,
          49,
          48,
          31,
          50,
          292,
          49,
          49,
          48,
          47,
          46,
          46,
          47,
          25,
          25,
          25,
          45,
          45,
          46,
          44,
          44,
          36,
          288,
          35,
          35,
          22,
          22,
          43,
          20,
          44,
          42,
          42,
          19,
          19,
          19,
          42,
          33,
          33,
          32,
          32,
          42,
          42,
          42,
          15,
          15,
          15,
          41,
          283,
          30,
          38,
          29,
          29,
          29,
          29,
          29,
          281,
          38,
          28,
          38,
          37,
          35,
          34,
          36,
          36,
          24,
          32,
          23,
          276,
          22,
          32,
          21,
          29,
          28,
          20,
          28,
          29,
          29,
          29,
          27,
          19,
          29,
          27,
          18,
          28,
          26,
          26,
          25,
          25,
          25,
          16,
          16,
          26,
          26,
          26,
          26,
          24,
          24,
          15,
          268,
          23,
          25,
          25,
          25,
          23,
          25,
          267,
          22,
          24,
          22,
          22,
          23,
          21,
          23,
          21,
          20,
          21,
          21,
          19,
          20,
          18,
          20,
          19,
          17,
          17,
          19,
          18,
          17,
          17,
          15,
          15,
          16,
          16,
          15,
          14,
          12,
          256,
          13,
          11,
          9,
          9,
          9,
          0,
          8,
          9,
          251,
          7,
          7,
          0,
          0,
          0,
          0,
          0,
          0,
          0,
          110,
          90,
          72,
          66,
          66,
          54,
          51,
          50,
          37,
          31,
          22,
          20,
          20,
          18,
          15,
          15,
          13,
          23
         ],
         "yaxis": "y"
        }
       ],
       "layout": {
        "legend": {
         "tracegroupgap": 0
        },
        "margin": {
         "t": 60
        },
        "template": {
         "data": {
          "bar": [
           {
            "error_x": {
             "color": "#2a3f5f"
            },
            "error_y": {
             "color": "#2a3f5f"
            },
            "marker": {
             "line": {
              "color": "#E5ECF6",
              "width": 0.5
             }
            },
            "type": "bar"
           }
          ],
          "barpolar": [
           {
            "marker": {
             "line": {
              "color": "#E5ECF6",
              "width": 0.5
             }
            },
            "type": "barpolar"
           }
          ],
          "carpet": [
           {
            "aaxis": {
             "endlinecolor": "#2a3f5f",
             "gridcolor": "white",
             "linecolor": "white",
             "minorgridcolor": "white",
             "startlinecolor": "#2a3f5f"
            },
            "baxis": {
             "endlinecolor": "#2a3f5f",
             "gridcolor": "white",
             "linecolor": "white",
             "minorgridcolor": "white",
             "startlinecolor": "#2a3f5f"
            },
            "type": "carpet"
           }
          ],
          "choropleth": [
           {
            "colorbar": {
             "outlinewidth": 0,
             "ticks": ""
            },
            "type": "choropleth"
           }
          ],
          "contour": [
           {
            "colorbar": {
             "outlinewidth": 0,
             "ticks": ""
            },
            "colorscale": [
             [
              0,
              "#0d0887"
             ],
             [
              0.1111111111111111,
              "#46039f"
             ],
             [
              0.2222222222222222,
              "#7201a8"
             ],
             [
              0.3333333333333333,
              "#9c179e"
             ],
             [
              0.4444444444444444,
              "#bd3786"
             ],
             [
              0.5555555555555556,
              "#d8576b"
             ],
             [
              0.6666666666666666,
              "#ed7953"
             ],
             [
              0.7777777777777778,
              "#fb9f3a"
             ],
             [
              0.8888888888888888,
              "#fdca26"
             ],
             [
              1,
              "#f0f921"
             ]
            ],
            "type": "contour"
           }
          ],
          "contourcarpet": [
           {
            "colorbar": {
             "outlinewidth": 0,
             "ticks": ""
            },
            "type": "contourcarpet"
           }
          ],
          "heatmap": [
           {
            "colorbar": {
             "outlinewidth": 0,
             "ticks": ""
            },
            "colorscale": [
             [
              0,
              "#0d0887"
             ],
             [
              0.1111111111111111,
              "#46039f"
             ],
             [
              0.2222222222222222,
              "#7201a8"
             ],
             [
              0.3333333333333333,
              "#9c179e"
             ],
             [
              0.4444444444444444,
              "#bd3786"
             ],
             [
              0.5555555555555556,
              "#d8576b"
             ],
             [
              0.6666666666666666,
              "#ed7953"
             ],
             [
              0.7777777777777778,
              "#fb9f3a"
             ],
             [
              0.8888888888888888,
              "#fdca26"
             ],
             [
              1,
              "#f0f921"
             ]
            ],
            "type": "heatmap"
           }
          ],
          "heatmapgl": [
           {
            "colorbar": {
             "outlinewidth": 0,
             "ticks": ""
            },
            "colorscale": [
             [
              0,
              "#0d0887"
             ],
             [
              0.1111111111111111,
              "#46039f"
             ],
             [
              0.2222222222222222,
              "#7201a8"
             ],
             [
              0.3333333333333333,
              "#9c179e"
             ],
             [
              0.4444444444444444,
              "#bd3786"
             ],
             [
              0.5555555555555556,
              "#d8576b"
             ],
             [
              0.6666666666666666,
              "#ed7953"
             ],
             [
              0.7777777777777778,
              "#fb9f3a"
             ],
             [
              0.8888888888888888,
              "#fdca26"
             ],
             [
              1,
              "#f0f921"
             ]
            ],
            "type": "heatmapgl"
           }
          ],
          "histogram": [
           {
            "marker": {
             "colorbar": {
              "outlinewidth": 0,
              "ticks": ""
             }
            },
            "type": "histogram"
           }
          ],
          "histogram2d": [
           {
            "colorbar": {
             "outlinewidth": 0,
             "ticks": ""
            },
            "colorscale": [
             [
              0,
              "#0d0887"
             ],
             [
              0.1111111111111111,
              "#46039f"
             ],
             [
              0.2222222222222222,
              "#7201a8"
             ],
             [
              0.3333333333333333,
              "#9c179e"
             ],
             [
              0.4444444444444444,
              "#bd3786"
             ],
             [
              0.5555555555555556,
              "#d8576b"
             ],
             [
              0.6666666666666666,
              "#ed7953"
             ],
             [
              0.7777777777777778,
              "#fb9f3a"
             ],
             [
              0.8888888888888888,
              "#fdca26"
             ],
             [
              1,
              "#f0f921"
             ]
            ],
            "type": "histogram2d"
           }
          ],
          "histogram2dcontour": [
           {
            "colorbar": {
             "outlinewidth": 0,
             "ticks": ""
            },
            "colorscale": [
             [
              0,
              "#0d0887"
             ],
             [
              0.1111111111111111,
              "#46039f"
             ],
             [
              0.2222222222222222,
              "#7201a8"
             ],
             [
              0.3333333333333333,
              "#9c179e"
             ],
             [
              0.4444444444444444,
              "#bd3786"
             ],
             [
              0.5555555555555556,
              "#d8576b"
             ],
             [
              0.6666666666666666,
              "#ed7953"
             ],
             [
              0.7777777777777778,
              "#fb9f3a"
             ],
             [
              0.8888888888888888,
              "#fdca26"
             ],
             [
              1,
              "#f0f921"
             ]
            ],
            "type": "histogram2dcontour"
           }
          ],
          "mesh3d": [
           {
            "colorbar": {
             "outlinewidth": 0,
             "ticks": ""
            },
            "type": "mesh3d"
           }
          ],
          "parcoords": [
           {
            "line": {
             "colorbar": {
              "outlinewidth": 0,
              "ticks": ""
             }
            },
            "type": "parcoords"
           }
          ],
          "pie": [
           {
            "automargin": true,
            "type": "pie"
           }
          ],
          "scatter": [
           {
            "marker": {
             "colorbar": {
              "outlinewidth": 0,
              "ticks": ""
             }
            },
            "type": "scatter"
           }
          ],
          "scatter3d": [
           {
            "line": {
             "colorbar": {
              "outlinewidth": 0,
              "ticks": ""
             }
            },
            "marker": {
             "colorbar": {
              "outlinewidth": 0,
              "ticks": ""
             }
            },
            "type": "scatter3d"
           }
          ],
          "scattercarpet": [
           {
            "marker": {
             "colorbar": {
              "outlinewidth": 0,
              "ticks": ""
             }
            },
            "type": "scattercarpet"
           }
          ],
          "scattergeo": [
           {
            "marker": {
             "colorbar": {
              "outlinewidth": 0,
              "ticks": ""
             }
            },
            "type": "scattergeo"
           }
          ],
          "scattergl": [
           {
            "marker": {
             "colorbar": {
              "outlinewidth": 0,
              "ticks": ""
             }
            },
            "type": "scattergl"
           }
          ],
          "scattermapbox": [
           {
            "marker": {
             "colorbar": {
              "outlinewidth": 0,
              "ticks": ""
             }
            },
            "type": "scattermapbox"
           }
          ],
          "scatterpolar": [
           {
            "marker": {
             "colorbar": {
              "outlinewidth": 0,
              "ticks": ""
             }
            },
            "type": "scatterpolar"
           }
          ],
          "scatterpolargl": [
           {
            "marker": {
             "colorbar": {
              "outlinewidth": 0,
              "ticks": ""
             }
            },
            "type": "scatterpolargl"
           }
          ],
          "scatterternary": [
           {
            "marker": {
             "colorbar": {
              "outlinewidth": 0,
              "ticks": ""
             }
            },
            "type": "scatterternary"
           }
          ],
          "surface": [
           {
            "colorbar": {
             "outlinewidth": 0,
             "ticks": ""
            },
            "colorscale": [
             [
              0,
              "#0d0887"
             ],
             [
              0.1111111111111111,
              "#46039f"
             ],
             [
              0.2222222222222222,
              "#7201a8"
             ],
             [
              0.3333333333333333,
              "#9c179e"
             ],
             [
              0.4444444444444444,
              "#bd3786"
             ],
             [
              0.5555555555555556,
              "#d8576b"
             ],
             [
              0.6666666666666666,
              "#ed7953"
             ],
             [
              0.7777777777777778,
              "#fb9f3a"
             ],
             [
              0.8888888888888888,
              "#fdca26"
             ],
             [
              1,
              "#f0f921"
             ]
            ],
            "type": "surface"
           }
          ],
          "table": [
           {
            "cells": {
             "fill": {
              "color": "#EBF0F8"
             },
             "line": {
              "color": "white"
             }
            },
            "header": {
             "fill": {
              "color": "#C8D4E3"
             },
             "line": {
              "color": "white"
             }
            },
            "type": "table"
           }
          ]
         },
         "layout": {
          "annotationdefaults": {
           "arrowcolor": "#2a3f5f",
           "arrowhead": 0,
           "arrowwidth": 1
          },
          "coloraxis": {
           "colorbar": {
            "outlinewidth": 0,
            "ticks": ""
           }
          },
          "colorscale": {
           "diverging": [
            [
             0,
             "#8e0152"
            ],
            [
             0.1,
             "#c51b7d"
            ],
            [
             0.2,
             "#de77ae"
            ],
            [
             0.3,
             "#f1b6da"
            ],
            [
             0.4,
             "#fde0ef"
            ],
            [
             0.5,
             "#f7f7f7"
            ],
            [
             0.6,
             "#e6f5d0"
            ],
            [
             0.7,
             "#b8e186"
            ],
            [
             0.8,
             "#7fbc41"
            ],
            [
             0.9,
             "#4d9221"
            ],
            [
             1,
             "#276419"
            ]
           ],
           "sequential": [
            [
             0,
             "#0d0887"
            ],
            [
             0.1111111111111111,
             "#46039f"
            ],
            [
             0.2222222222222222,
             "#7201a8"
            ],
            [
             0.3333333333333333,
             "#9c179e"
            ],
            [
             0.4444444444444444,
             "#bd3786"
            ],
            [
             0.5555555555555556,
             "#d8576b"
            ],
            [
             0.6666666666666666,
             "#ed7953"
            ],
            [
             0.7777777777777778,
             "#fb9f3a"
            ],
            [
             0.8888888888888888,
             "#fdca26"
            ],
            [
             1,
             "#f0f921"
            ]
           ],
           "sequentialminus": [
            [
             0,
             "#0d0887"
            ],
            [
             0.1111111111111111,
             "#46039f"
            ],
            [
             0.2222222222222222,
             "#7201a8"
            ],
            [
             0.3333333333333333,
             "#9c179e"
            ],
            [
             0.4444444444444444,
             "#bd3786"
            ],
            [
             0.5555555555555556,
             "#d8576b"
            ],
            [
             0.6666666666666666,
             "#ed7953"
            ],
            [
             0.7777777777777778,
             "#fb9f3a"
            ],
            [
             0.8888888888888888,
             "#fdca26"
            ],
            [
             1,
             "#f0f921"
            ]
           ]
          },
          "colorway": [
           "#636efa",
           "#EF553B",
           "#00cc96",
           "#ab63fa",
           "#FFA15A",
           "#19d3f3",
           "#FF6692",
           "#B6E880",
           "#FF97FF",
           "#FECB52"
          ],
          "font": {
           "color": "#2a3f5f"
          },
          "geo": {
           "bgcolor": "white",
           "lakecolor": "white",
           "landcolor": "#E5ECF6",
           "showlakes": true,
           "showland": true,
           "subunitcolor": "white"
          },
          "hoverlabel": {
           "align": "left"
          },
          "hovermode": "closest",
          "mapbox": {
           "style": "light"
          },
          "paper_bgcolor": "white",
          "plot_bgcolor": "#E5ECF6",
          "polar": {
           "angularaxis": {
            "gridcolor": "white",
            "linecolor": "white",
            "ticks": ""
           },
           "bgcolor": "#E5ECF6",
           "radialaxis": {
            "gridcolor": "white",
            "linecolor": "white",
            "ticks": ""
           }
          },
          "scene": {
           "xaxis": {
            "backgroundcolor": "#E5ECF6",
            "gridcolor": "white",
            "gridwidth": 2,
            "linecolor": "white",
            "showbackground": true,
            "ticks": "",
            "zerolinecolor": "white"
           },
           "yaxis": {
            "backgroundcolor": "#E5ECF6",
            "gridcolor": "white",
            "gridwidth": 2,
            "linecolor": "white",
            "showbackground": true,
            "ticks": "",
            "zerolinecolor": "white"
           },
           "zaxis": {
            "backgroundcolor": "#E5ECF6",
            "gridcolor": "white",
            "gridwidth": 2,
            "linecolor": "white",
            "showbackground": true,
            "ticks": "",
            "zerolinecolor": "white"
           }
          },
          "shapedefaults": {
           "line": {
            "color": "#2a3f5f"
           }
          },
          "ternary": {
           "aaxis": {
            "gridcolor": "white",
            "linecolor": "white",
            "ticks": ""
           },
           "baxis": {
            "gridcolor": "white",
            "linecolor": "white",
            "ticks": ""
           },
           "bgcolor": "#E5ECF6",
           "caxis": {
            "gridcolor": "white",
            "linecolor": "white",
            "ticks": ""
           }
          },
          "title": {
           "x": 0.05
          },
          "xaxis": {
           "automargin": true,
           "gridcolor": "white",
           "linecolor": "white",
           "ticks": "",
           "title": {
            "standoff": 15
           },
           "zerolinecolor": "white",
           "zerolinewidth": 2
          },
          "yaxis": {
           "automargin": true,
           "gridcolor": "white",
           "linecolor": "white",
           "ticks": "",
           "title": {
            "standoff": 15
           },
           "zerolinecolor": "white",
           "zerolinewidth": 2
          }
         }
        },
        "xaxis": {
         "anchor": "y",
         "domain": [
          0,
          1
         ],
         "title": {
          "text": "Value"
         }
        },
        "yaxis": {
         "anchor": "x",
         "domain": [
          0,
          1
         ],
         "title": {
          "text": "Pts"
         }
        }
       }
      },
      "text/html": [
       "<div>\n",
       "        \n",
       "        \n",
       "            <div id=\"e7b5294a-8b09-42ed-9c72-b2345897083d\" class=\"plotly-graph-div\" style=\"height:525px; width:100%;\"></div>\n",
       "            <script type=\"text/javascript\">\n",
       "                require([\"plotly\"], function(Plotly) {\n",
       "                    window.PLOTLYENV=window.PLOTLYENV || {};\n",
       "                    \n",
       "                if (document.getElementById(\"e7b5294a-8b09-42ed-9c72-b2345897083d\")) {\n",
       "                    Plotly.newPlot(\n",
       "                        'e7b5294a-8b09-42ed-9c72-b2345897083d',\n",
       "                        [{\"hoverlabel\": {\"namelength\": 0}, \"hovertemplate\": \"<b>%{hovertext}</b><br><br>Value=%{x}<br>Pts=%{y}\", \"hovertext\": [\"Jonathan Taylor\", \"Derrick Henry\", \"Dalvin Cook\", \"Nick Chubb\", \"Christian McCaffrey\", \"Joe Mixon\", \"Austin Ekeler\", \"Najee Harris\", \"Javonte Williams\", \"Leonard Fournette\", \"Alvin Kamara\", \"James Conner\", \"Antonio Gibson\", \"David Montgomery\", \"Saquon Barkley\", \"D'Andre Swift\", \"Aaron Jones\", \"Cooper Kupp\", \"Ja'Marr Chase\", \"Justin Jefferson\", \"Cam Akers\", \"Deebo Samuel\", \"Ezekiel Elliott\", \"Josh Jacobs\", \"A.J. Brown\", \"CeeDee Lamb\", \"Travis Kelce\", \"J.K. Dobbins\", \"Elijah Mitchell\", \"Devin Singletary\", \"Damien Harris\", \"Mike Evans\", \"Tyreek Hill\", \"Stefon Diggs\", \"Davante Adams\", \"AJ Dillon\", \"Rashaad Penny\", \"Josh Allen\", \"Tee Higgins\", \"Michael Carter\", \"Mark Andrews\", \"D.K. Metcalf\", \"Clyde Edwards-Helaire\", \"DeAndre Hopkins\", \"Jaylen Waddle\", \"Amari Cooper\", \"Diontae Johnson\", \"Travis Etienne\", \"Patrick Mahomes\", \"D.J. Moore\", \"Kyle Pitts\", \"Cordarrelle Patterson\", \"Justin Herbert\", \"Rhamondre Stevenson\", \"Keenan Allen\", \"James Robinson\", \"Michael Pittman, Jr.\", \"Terry McLaurin\", \"Marquise Brown\", \"Melvin Gordon\", \"Miles Sanders\", \"Elijah Moore\", \"Gabriel Davis\", \"Tony Pollard\", \"Courtland Sutton\", \"Jerry Jeudy\", \"Mike Williams\", \"Chris Godwin\", \"Darnell Mooney\", \"Chase Edmonds\", \"Brandin Cooks\", \"DeVonta Smith\", \"Kareem Hunt\", \"Darren Waller\", \"Amon-Ra St. Brown\", \"Juju Smith-Schuster\", \"George Kittle\", \"Kadarius Toney\", \"Lamar Jackson\", \"Joe Burrow\", \"Tom Brady\", \"Michael Thomas\", \"Kyler Murray\", \"Chase Claypool\", \"Tyler Lockett\", \"Dalton Schultz\", \"Adam Thielen\", \"Hunter Renfrow\", \"Brandon Aiyuk\", \"Dallas Goedert\", \"Allen Robinson\", \"Russell Wilson\", \"Zach Ertz\", \"T.J. Hockenson\", \"Matthew Stafford\", \"Marquez Valdes-Scantling\", \"Aaron Rodgers\", \"Dak Prescott\", \"Robert Woods\", \"Rob Gronkowski\", \"Allen Lazard\", \"Michael Gallup\", \"Mike Gesicki\", \"Kenny Golladay\", \"Mecole Hardman\", \"Jalen Hurts\", \"Christian Kirk\", \"Rashod Bateman\", \"Dawson Knox\", \"Rondale Moore\", \"Hunter Henry\", \"D.J. Chark\", \"DeShaun Watson\", \"Gus Edwards\", \"Tyler Boyd\", \"Odell Beckham\", \"Pat Freiermuth\", \"Khalil Herbert\", \"Russell Gage\", \"Jakobi Meyers\", \"Albert Okwuegbunam\", \"Evan McPherson\", \"DeVante Parker\", \"Jarvis Landry\", \"Tyler Bass\", \"Matthew Gay\", \"Trey Lance\", \"Justin Tucker\", \"Braxton Berrios\", \"Logan Thomas\", \"Derek Carr\", \"Sony Michel\", \"Tyler Higbee\", \"Curtis Samuel\", \"Tim Patrick\", \"Harrison Butker\", \"Matt Prater\", \"Daniel Carlson\", \"Noah Fant\", \"Kirk Cousins\", \"Justin Fields\", \"Trevor Lawrence\", \"Tua Tagovailoa\", \"Ryan Tannehill\", \"Nick Folk\", \"Dustin Hopkins\", \"Chris Boswell\", \"Robbie Gould\", \"Randy Bullock\", \"Ryan Succop\", \"Younghoe Koo\", \"Robby Anderson\", \"Corey Davis\", \"D'Onta Foreman\", \"Alexander Mattison\", \"Ronald Jones II\", \"Cole Kmet\", \"Irv Smith Jr.\", \"David Njoku\", \"Jake Elliott\", \"Darrell Henderson\", \"Kendrick Bourne\", \"Greg Zuerlein\", \"Jamaal Williams\", \"Graham Gano\", \"Wil Lutz\", \"Brandon McManus\", \"Jason Sanders\", \"Mason Crosby\", \"Julio Jones\", \"Marvin Jones\", \"Chris Carson\", \"Donovan Peoples-Jones\", \"Greg Joseph\", \"Marquez Callaway\", \"Cairo Santos\", \"Jason Myers\", \"Will Fuller\", \"Ka'imi Fairbairn\", \"Van Jefferson\", \"Austin Seibert\", \"Rodrigo Blankenship\", \"Zane Gonzalez\", \"Jamison Crowder\", \"Joey Slye\", \"Raheem Mostert\", \"K.J. Osborn\", \"A.J. Green\", \"Gerald Everett\", \"Antonio Brown\", \"Chase McLaughlin\", \"Cedrick Wilson\", \"Quez Watkins\", \"Randall Cobb\", \"Devontae Booker\", \"Nyheim Hines\", \"Austin Hooper\", \"Zay Jones\", \"Duke Johnson\", \"Ryan Santoso\", \"Nico Collins\", \"Kenneth Gainwell\", \"Byron Pringle\", \"Sterling Shepard\", \"Mo Alie-Cox\", \"Hayden Hurst\", \"Robert Tonyan\", \"Evan Engram\", \"Brevin Jordan\", \"Mac Jones\", \"Kenyan Drake\", \"Myles Gaskin\", \"Boston Scott\", \"Deonte Harris\", \"C.J. Uzomah\", \"Josh Reynolds\", \"Sammy Watkins\", \"Mike Davis\", \"Darrel Williams\", \"James Washington\", \"Samaje Perine\", \"Isaiah McKenzie\", \"Terrace Marshall\", \"Nelson Agholor\", \"Josh Palmer\", \"J.D. McKissic\", \"Darius Slayton\", \"Nick Westbrook-Ikhine\", \"Daniel Jones\", \"Parris Campbell\", \"Zach Wilson\", \"O.J. Howard\", \"Laviska Shenault\", \"Justin Jackson\", \"Jared Cook\", \"Harrison Bryant\", \"Adam Trautman\", \"Amari Rodgers\", \"Bryan Edwards\", \"Anthony Schwartz\", \"Tutu Atwell\", \"Cameron Brate\", \"Devin Duvernay\", \"Jonnu Smith\", \"Marlon Mack\", \"Dan Arnold\", \"D'Ernest Johnson\", \"Brett Maher\", \"Rex Burkhead\", \"Matt Ryan\", \"Donald Parham\", \"Mark Ingram\", \"Ty Johnson\", \"Jauan Jennings\", \"Jalen Guyton\", \"Michael Badgley\", \"T.Y. Hilton\", \"Cole Beasley\", \"Jerick McKinnon\", \"Tommy Tremble\", \"Tevin Coleman\", \"Olamide Zaccheaus\", \"D'Wayne Eskridge\", \"Emmanuel Sanders\", \"Jalen Reagor\", \"Tyler Conklin\", \"Ricky Seals-Jones\", \"Tre'Quan Smith\", \"Stephen Gostkowski\", \"Cody Parkey\", \"Foster Moreau\", \"Trey Sermon\", \"KJ Hamler\", \"Tarik Cohen\", \"Zack Moss\", \"Aldrick Rosas\", \"Quintez Cephus\", \"Jared Goff\", \"Zach Pascal\", \"Kalif Raymond\", \"Laquon Treadwell\", \"Jaret Patterson\", \"Ke'Shawn Vaughn\", \"Matt Breida\", \"Adam Humphries\", \"Steven Hauschka\", \"Kai Forbath\", \"Dan Bailey\", \"Phillip Lindsay\", \"Eno Benjamin\", \"Antoine Wesley\", \"Latavius Murray\", \"Carlos Hyde\", \"Drew Sample\", \"Mitchell Trubisky\", \"Kylen Granson\", \"Josiah Deguara\", \"Tristan Vizcaino\", \"Mike Nugent\", \"Derrick Gore\", \"Quinn Nordin\", \"Denzel Mims\", \"Benny Snell\", \"Kene Nwangwu\", \"Chris Naggar\", \"Matt Ammendola\", \"Josh Lambo\", \"James White\", \"Anthony Firkser\", \"Pharaoh Brown\", \"Nick Boyle\", \"Durham Smythe\", \"Ray-Ray McCloud\", \"Chris Conley\", \"DeAndre Carter\", \"Sam Ficken\", \"Sam Sloman\", \"Tucker McCann\", \"KhaDarel Hodge\", \"Jameis Winston\", \"Kyle Rudolph\", \"Tony Jones\", \"Ryan Griffin\", \"James O'Shaughnessy\", \"Ian Thomas\", \"Blake Jarwin\", \"Juwan Johnson\", \"Carson Wentz\", \"Demarcus Robinson\", \"Will Dissly\", \"Freddie Swain\", \"Rashard Higgins\", \"Royce Freeman\", \"Ameer Abdullah\", \"Dyami Brown\", \"Tyler Johnson\", \"Geoff Swaim\", \"Chuba Hubbard\", \"John Bates\", \"Baker Mayfield\", \"Blake Bell\", \"Albert Wilson\", \"Maxx Williams\", \"JaMycal Hasty\", \"Damien Williams\", \"Zach Gentry\", \"Joshua Kelley\", \"Jamal Agnew\", \"Breshad Perriman\", \"Damiere Byrd\", \"Jordan Howard\", \"Ross Dwelley\", \"Dez Fitzpatrick\", \"DeeJay Dallas\", \"Jacob Hollister\", \"Jakeem Grant\", \"Demetric Felton\", \"Dare Ogunbowale\", \"Devonta Freeman\", \"Chris Evans\", \"Wayne Gallman\", \"Nick Vannett\", \"Noah Gray\", \"Ashton Dulin\", \"Brandon Zylstra\", \"Noah Brown\", \"Preston Williams\", \"Giovani Bernard\", \"Larry Rountree\", \"Tre' McKitty\", \"Jimmy Garoppolo\", \"Kyle Juszczyk\", \"Auden Tate\", \"N'Keal Harry\", \"James Proche\", \"Malcolm Brown\", \"Bisi Johnson\", \"Drew Lock\", \"Alex Collins\", \"Mack Hollins\", \"David Johnson\", \"Brandon Bolden\", \"Scotty Miller\", \"Jeff Wilson\", \"Dazz Newsome\", \"Lamical Perine\", \"Jake Funk\", \"Anthony Miller\", \"Greg Ward\", \"Salvon Ahmed\", \"Cam Sims\", \"Jalen Richard\", \"Lil'Jordan Humphrey\", \"Equanimeous St. Brown\", \"Gary Brightwell\", \"Travis Homer\", \"Lynn Bowden\", \"Dezmon Patmon\", \"Ihmir Smith-Marsette\", \"Ben Skowronek\", \"Jermar Jefferson\", \"Kylin Hill\", \"Tylan Wallace\", \"Mike Thomas\", \"Cornell Powell\", \"Darrynton Evans\", \"Godwin Igwebuike\", \"Davis Mills\", \"Joe Reed\", \"Mike Strachan\", \"J.J. Taylor\", \"Jordan Wilkins\", \"Justice Hill\", \"Jack Doyle\", \"Mike Boone\", \"Ty Montgomery\", \"Marcus Mariota\", \"Anthony McFarland\", \"Trent Sherfield\", \"Richie James\", \"Calvin Ridley\", \"Trent Taylor\", \"Gunner Olszewski\", \"Jaelon Darden\", \"Shi Smith\", \"Dax Milne\", \"Sam Darnold\", \"Taysom Hill\", \"Teddy Bridgewater\", \"Taylor Heinicke\", \"Gardner Minshew\", \"Cam Newton\", \"Andy Dalton\", \"Jordan Love\", \"Tyrod Taylor\", \"Ryan Fitzpatrick\", \"Jacoby Brissett\", \"Mason Rudolph\", \"Case Keenum\", \"John Wolford\", \"C.J. Beathard\", \"Joe Flacco\", \"Sam Ehlinger\", \"Hunter Niswander\"], \"legendgroup\": \"\", \"marker\": {\"color\": \"#636efa\", \"symbol\": \"circle\"}, \"mode\": \"markers\", \"name\": \"\", \"showlegend\": false, \"type\": \"scatter\", \"x\": [72, 63, 55, 54, 54, 53, 51, 50, 49, 47, 47, 47, 46, 43, 41, 41, 40, 40, 40, 40, 39, 36, 35, 34, 34, 34, 30, 29, 29, 29, 28, 28, 27, 27, 27, 27, 26, 26, 26, 26, 26, 25, 24, 23, 23, 23, 23, 23, 23, 22, 22, 22, 21, 21, 21, 20, 20, 20, 20, 20, 18, 18, 18, 18, 18, 17, 17, 17, 17, 17, 16, 16, 16, 16, 16, 15, 15, 15, 15, 14, 14, 14, 14, 13, 13, 12, 11, 11, 11, 11, 11, 11, 10, 10, 10, 8, 8, 8, 8, 8, 8, 8, 7, 7, 7, 7, 6, 6, 6, 6, 6, 5, 5, 5, 5, 5, 4, 4, 3, 3, 3, 3, 3, 3, 3, 3, 2, 2, 2, 2, 2, 2, 2, 2, 2, 2, 2, 1, 1, 1, 1, 1, 1, 1, 1, 1, 1, 1, 1, 1, 1, 1, 1, 1, 1, 1, 1, 1, 1, 0, 0, 0, 0, 0, 0, -1, -1, -1, -1, -1, -1, -1, -1, -1, -2, -2, -2, -2, -2, -2, -2, -3, -3, -3, -3, -4, -4, -4, -4, -4, -4, -4, -5, -5, -5, -5, -5, -5, -5, -6, -6, -6, -6, -6, -7, -7, -7, -7, -7, -7, -7, -7, -8, -8, -8, -8, -9, -9, -9, -9, -10, -10, -10, -10, -10, -10, -10, -10, -10, -11, -11, -11, -11, -11, -11, -11, -11, -11, -12, -12, -12, -12, -13, -13, -13, -13, -13, -13, -14, -14, -14, -14, -14, -14, -14, -14, -15, -15, -15, -15, -15, -15, -15, -15, -15, -16, -16, -16, -16, -16, -16, -16, -16, -17, -17, -17, -17, -17, -17, -17, -17, -17, -17, -18, -18, -18, -18, -18, -18, -18, -18, -18, -18, -18, -18, -18, -18, -18, -18, -19, -19, -19, -19, -19, -19, -19, -19, -19, -19, -19, -19, -20, -20, -20, -20, -20, -20, -20, -20, -20, -20, -20, -21, -21, -21, -21, -21, -21, -21, -21, -21, -21, -22, -22, -22, -22, -23, -23, -23, -23, -23, -23, -24, -24, -24, -24, -24, -24, -24, -24, -25, -25, -25, -25, -25, -25, -25, -25, -25, -25, -25, -25, -25, -26, -26, -26, -26, -26, -26, -26, -26, -26, -26, -26, -26, -26, -26, -26, -26, -26, -26, -26, -27, -27, -27, -27, -27, -27, -27, -27, -28, -28, -28, -28, -28, -28, -28, -28, -29, -29, -29, -29, -29, -29, -29, -29, -30, -30, -30, -31, -31, -31, -31, -31, -32, -32, -32, -32, -33, -35, -35, -35, -35, -35, -35, -35, -84, -92, -98, -100, -100, -105, -106, -106, -111, -113, -117, -117, -117, -118, -119, -119, -120, 0], \"xaxis\": \"x\", \"y\": [287, 266, 243, 239, 239, 238, 232, 228, 227, 221, 221, 220, 219, 209, 204, 204, 203, 204, 204, 204, 200, 193, 189, 187, 188, 187, 165, 173, 173, 173, 169, 170, 169, 169, 169, 167, 165, 426, 165, 163, 154, 163, 160, 158, 158, 157, 157, 155, 414, 155, 145, 152, 410, 151, 152, 149, 149, 149, 148, 146, 142, 143, 143, 141, 143, 143, 142, 142, 142, 139, 140, 140, 138, 129, 139, 136, 126, 136, 387, 386, 385, 133, 384, 130, 129, 117, 126, 125, 125, 115, 124, 373, 113, 113, 371, 118, 365, 365, 117, 106, 116, 116, 105, 114, 114, 360, 111, 111, 101, 111, 100, 110, 356, 108, 108, 108, 95, 103, 104, 104, 94, 135, 103, 103, 134, 134, 346, 131, 101, 91, 344, 99, 90, 100, 100, 128, 127, 126, 88, 341, 340, 339, 339, 338, 122, 122, 122, 121, 121, 120, 120, 97, 96, 96, 95, 95, 86, 86, 85, 119, 94, 95, 118, 93, 117, 115, 115, 115, 114, 92, 92, 90, 92, 112, 91, 109, 109, 90, 107, 89, 106, 105, 105, 88, 102, 84, 85, 85, 74, 84, 96, 83, 83, 83, 80, 79, 71, 81, 79, 90, 80, 77, 79, 78, 67, 67, 67, 67, 67, 319, 75, 73, 73, 73, 63, 73, 72, 70, 70, 71, 68, 69, 68, 68, 67, 66, 67, 67, 309, 67, 309, 56, 66, 64, 55, 55, 54, 64, 64, 63, 63, 52, 61, 50, 58, 50, 58, 49, 56, 300, 47, 55, 55, 57, 57, 43, 55, 55, 53, 44, 52, 54, 54, 54, 53, 43, 43, 52, 36, 34, 41, 49, 51, 49, 48, 31, 50, 292, 49, 49, 48, 47, 46, 46, 47, 25, 25, 25, 45, 45, 46, 44, 44, 36, 288, 35, 35, 22, 22, 43, 20, 44, 42, 42, 19, 19, 19, 42, 33, 33, 32, 32, 42, 42, 42, 15, 15, 15, 41, 283, 30, 38, 29, 29, 29, 29, 29, 281, 38, 28, 38, 37, 35, 34, 36, 36, 24, 32, 23, 276, 22, 32, 21, 29, 28, 20, 28, 29, 29, 29, 27, 19, 29, 27, 18, 28, 26, 26, 25, 25, 25, 16, 16, 26, 26, 26, 26, 24, 24, 15, 268, 23, 25, 25, 25, 23, 25, 267, 22, 24, 22, 22, 23, 21, 23, 21, 20, 21, 21, 19, 20, 18, 20, 19, 17, 17, 19, 18, 17, 17, 15, 15, 16, 16, 15, 14, 12, 256, 13, 11, 9, 9, 9, 0, 8, 9, 251, 7, 7, 0, 0, 0, 0, 0, 0, 0, 110, 90, 72, 66, 66, 54, 51, 50, 37, 31, 22, 20, 20, 18, 15, 15, 13, 23], \"yaxis\": \"y\"}],\n",
       "                        {\"legend\": {\"tracegroupgap\": 0}, \"margin\": {\"t\": 60}, \"template\": {\"data\": {\"bar\": [{\"error_x\": {\"color\": \"#2a3f5f\"}, \"error_y\": {\"color\": \"#2a3f5f\"}, \"marker\": {\"line\": {\"color\": \"#E5ECF6\", \"width\": 0.5}}, \"type\": \"bar\"}], \"barpolar\": [{\"marker\": {\"line\": {\"color\": \"#E5ECF6\", \"width\": 0.5}}, \"type\": \"barpolar\"}], \"carpet\": [{\"aaxis\": {\"endlinecolor\": \"#2a3f5f\", \"gridcolor\": \"white\", \"linecolor\": \"white\", \"minorgridcolor\": \"white\", \"startlinecolor\": \"#2a3f5f\"}, \"baxis\": {\"endlinecolor\": \"#2a3f5f\", \"gridcolor\": \"white\", \"linecolor\": \"white\", \"minorgridcolor\": \"white\", \"startlinecolor\": \"#2a3f5f\"}, \"type\": \"carpet\"}], \"choropleth\": [{\"colorbar\": {\"outlinewidth\": 0, \"ticks\": \"\"}, \"type\": \"choropleth\"}], \"contour\": [{\"colorbar\": {\"outlinewidth\": 0, \"ticks\": \"\"}, \"colorscale\": [[0.0, \"#0d0887\"], [0.1111111111111111, \"#46039f\"], [0.2222222222222222, \"#7201a8\"], [0.3333333333333333, \"#9c179e\"], [0.4444444444444444, \"#bd3786\"], [0.5555555555555556, \"#d8576b\"], [0.6666666666666666, \"#ed7953\"], [0.7777777777777778, \"#fb9f3a\"], [0.8888888888888888, \"#fdca26\"], [1.0, \"#f0f921\"]], \"type\": \"contour\"}], \"contourcarpet\": [{\"colorbar\": {\"outlinewidth\": 0, \"ticks\": \"\"}, \"type\": \"contourcarpet\"}], \"heatmap\": [{\"colorbar\": {\"outlinewidth\": 0, \"ticks\": \"\"}, \"colorscale\": [[0.0, \"#0d0887\"], [0.1111111111111111, \"#46039f\"], [0.2222222222222222, \"#7201a8\"], [0.3333333333333333, \"#9c179e\"], [0.4444444444444444, \"#bd3786\"], [0.5555555555555556, \"#d8576b\"], [0.6666666666666666, \"#ed7953\"], [0.7777777777777778, \"#fb9f3a\"], [0.8888888888888888, \"#fdca26\"], [1.0, \"#f0f921\"]], \"type\": \"heatmap\"}], \"heatmapgl\": [{\"colorbar\": {\"outlinewidth\": 0, \"ticks\": \"\"}, \"colorscale\": [[0.0, \"#0d0887\"], [0.1111111111111111, \"#46039f\"], [0.2222222222222222, \"#7201a8\"], [0.3333333333333333, \"#9c179e\"], [0.4444444444444444, \"#bd3786\"], [0.5555555555555556, \"#d8576b\"], [0.6666666666666666, \"#ed7953\"], [0.7777777777777778, \"#fb9f3a\"], [0.8888888888888888, \"#fdca26\"], [1.0, \"#f0f921\"]], \"type\": \"heatmapgl\"}], \"histogram\": [{\"marker\": {\"colorbar\": {\"outlinewidth\": 0, \"ticks\": \"\"}}, \"type\": \"histogram\"}], \"histogram2d\": [{\"colorbar\": {\"outlinewidth\": 0, \"ticks\": \"\"}, \"colorscale\": [[0.0, \"#0d0887\"], [0.1111111111111111, \"#46039f\"], [0.2222222222222222, \"#7201a8\"], [0.3333333333333333, \"#9c179e\"], [0.4444444444444444, \"#bd3786\"], [0.5555555555555556, \"#d8576b\"], [0.6666666666666666, \"#ed7953\"], [0.7777777777777778, \"#fb9f3a\"], [0.8888888888888888, \"#fdca26\"], [1.0, \"#f0f921\"]], \"type\": \"histogram2d\"}], \"histogram2dcontour\": [{\"colorbar\": {\"outlinewidth\": 0, \"ticks\": \"\"}, \"colorscale\": [[0.0, \"#0d0887\"], [0.1111111111111111, \"#46039f\"], [0.2222222222222222, \"#7201a8\"], [0.3333333333333333, \"#9c179e\"], [0.4444444444444444, \"#bd3786\"], [0.5555555555555556, \"#d8576b\"], [0.6666666666666666, \"#ed7953\"], [0.7777777777777778, \"#fb9f3a\"], [0.8888888888888888, \"#fdca26\"], [1.0, \"#f0f921\"]], \"type\": \"histogram2dcontour\"}], \"mesh3d\": [{\"colorbar\": {\"outlinewidth\": 0, \"ticks\": \"\"}, \"type\": \"mesh3d\"}], \"parcoords\": [{\"line\": {\"colorbar\": {\"outlinewidth\": 0, \"ticks\": \"\"}}, \"type\": \"parcoords\"}], \"pie\": [{\"automargin\": true, \"type\": \"pie\"}], \"scatter\": [{\"marker\": {\"colorbar\": {\"outlinewidth\": 0, \"ticks\": \"\"}}, \"type\": \"scatter\"}], \"scatter3d\": [{\"line\": {\"colorbar\": {\"outlinewidth\": 0, \"ticks\": \"\"}}, \"marker\": {\"colorbar\": {\"outlinewidth\": 0, \"ticks\": \"\"}}, \"type\": \"scatter3d\"}], \"scattercarpet\": [{\"marker\": {\"colorbar\": {\"outlinewidth\": 0, \"ticks\": \"\"}}, \"type\": \"scattercarpet\"}], \"scattergeo\": [{\"marker\": {\"colorbar\": {\"outlinewidth\": 0, \"ticks\": \"\"}}, \"type\": \"scattergeo\"}], \"scattergl\": [{\"marker\": {\"colorbar\": {\"outlinewidth\": 0, \"ticks\": \"\"}}, \"type\": \"scattergl\"}], \"scattermapbox\": [{\"marker\": {\"colorbar\": {\"outlinewidth\": 0, \"ticks\": \"\"}}, \"type\": \"scattermapbox\"}], \"scatterpolar\": [{\"marker\": {\"colorbar\": {\"outlinewidth\": 0, \"ticks\": \"\"}}, \"type\": \"scatterpolar\"}], \"scatterpolargl\": [{\"marker\": {\"colorbar\": {\"outlinewidth\": 0, \"ticks\": \"\"}}, \"type\": \"scatterpolargl\"}], \"scatterternary\": [{\"marker\": {\"colorbar\": {\"outlinewidth\": 0, \"ticks\": \"\"}}, \"type\": \"scatterternary\"}], \"surface\": [{\"colorbar\": {\"outlinewidth\": 0, \"ticks\": \"\"}, \"colorscale\": [[0.0, \"#0d0887\"], [0.1111111111111111, \"#46039f\"], [0.2222222222222222, \"#7201a8\"], [0.3333333333333333, \"#9c179e\"], [0.4444444444444444, \"#bd3786\"], [0.5555555555555556, \"#d8576b\"], [0.6666666666666666, \"#ed7953\"], [0.7777777777777778, \"#fb9f3a\"], [0.8888888888888888, \"#fdca26\"], [1.0, \"#f0f921\"]], \"type\": \"surface\"}], \"table\": [{\"cells\": {\"fill\": {\"color\": \"#EBF0F8\"}, \"line\": {\"color\": \"white\"}}, \"header\": {\"fill\": {\"color\": \"#C8D4E3\"}, \"line\": {\"color\": \"white\"}}, \"type\": \"table\"}]}, \"layout\": {\"annotationdefaults\": {\"arrowcolor\": \"#2a3f5f\", \"arrowhead\": 0, \"arrowwidth\": 1}, \"coloraxis\": {\"colorbar\": {\"outlinewidth\": 0, \"ticks\": \"\"}}, \"colorscale\": {\"diverging\": [[0, \"#8e0152\"], [0.1, \"#c51b7d\"], [0.2, \"#de77ae\"], [0.3, \"#f1b6da\"], [0.4, \"#fde0ef\"], [0.5, \"#f7f7f7\"], [0.6, \"#e6f5d0\"], [0.7, \"#b8e186\"], [0.8, \"#7fbc41\"], [0.9, \"#4d9221\"], [1, \"#276419\"]], \"sequential\": [[0.0, \"#0d0887\"], [0.1111111111111111, \"#46039f\"], [0.2222222222222222, \"#7201a8\"], [0.3333333333333333, \"#9c179e\"], [0.4444444444444444, \"#bd3786\"], [0.5555555555555556, \"#d8576b\"], [0.6666666666666666, \"#ed7953\"], [0.7777777777777778, \"#fb9f3a\"], [0.8888888888888888, \"#fdca26\"], [1.0, \"#f0f921\"]], \"sequentialminus\": [[0.0, \"#0d0887\"], [0.1111111111111111, \"#46039f\"], [0.2222222222222222, \"#7201a8\"], [0.3333333333333333, \"#9c179e\"], [0.4444444444444444, \"#bd3786\"], [0.5555555555555556, \"#d8576b\"], [0.6666666666666666, \"#ed7953\"], [0.7777777777777778, \"#fb9f3a\"], [0.8888888888888888, \"#fdca26\"], [1.0, \"#f0f921\"]]}, \"colorway\": [\"#636efa\", \"#EF553B\", \"#00cc96\", \"#ab63fa\", \"#FFA15A\", \"#19d3f3\", \"#FF6692\", \"#B6E880\", \"#FF97FF\", \"#FECB52\"], \"font\": {\"color\": \"#2a3f5f\"}, \"geo\": {\"bgcolor\": \"white\", \"lakecolor\": \"white\", \"landcolor\": \"#E5ECF6\", \"showlakes\": true, \"showland\": true, \"subunitcolor\": \"white\"}, \"hoverlabel\": {\"align\": \"left\"}, \"hovermode\": \"closest\", \"mapbox\": {\"style\": \"light\"}, \"paper_bgcolor\": \"white\", \"plot_bgcolor\": \"#E5ECF6\", \"polar\": {\"angularaxis\": {\"gridcolor\": \"white\", \"linecolor\": \"white\", \"ticks\": \"\"}, \"bgcolor\": \"#E5ECF6\", \"radialaxis\": {\"gridcolor\": \"white\", \"linecolor\": \"white\", \"ticks\": \"\"}}, \"scene\": {\"xaxis\": {\"backgroundcolor\": \"#E5ECF6\", \"gridcolor\": \"white\", \"gridwidth\": 2, \"linecolor\": \"white\", \"showbackground\": true, \"ticks\": \"\", \"zerolinecolor\": \"white\"}, \"yaxis\": {\"backgroundcolor\": \"#E5ECF6\", \"gridcolor\": \"white\", \"gridwidth\": 2, \"linecolor\": \"white\", \"showbackground\": true, \"ticks\": \"\", \"zerolinecolor\": \"white\"}, \"zaxis\": {\"backgroundcolor\": \"#E5ECF6\", \"gridcolor\": \"white\", \"gridwidth\": 2, \"linecolor\": \"white\", \"showbackground\": true, \"ticks\": \"\", \"zerolinecolor\": \"white\"}}, \"shapedefaults\": {\"line\": {\"color\": \"#2a3f5f\"}}, \"ternary\": {\"aaxis\": {\"gridcolor\": \"white\", \"linecolor\": \"white\", \"ticks\": \"\"}, \"baxis\": {\"gridcolor\": \"white\", \"linecolor\": \"white\", \"ticks\": \"\"}, \"bgcolor\": \"#E5ECF6\", \"caxis\": {\"gridcolor\": \"white\", \"linecolor\": \"white\", \"ticks\": \"\"}}, \"title\": {\"x\": 0.05}, \"xaxis\": {\"automargin\": true, \"gridcolor\": \"white\", \"linecolor\": \"white\", \"ticks\": \"\", \"title\": {\"standoff\": 15}, \"zerolinecolor\": \"white\", \"zerolinewidth\": 2}, \"yaxis\": {\"automargin\": true, \"gridcolor\": \"white\", \"linecolor\": \"white\", \"ticks\": \"\", \"title\": {\"standoff\": 15}, \"zerolinecolor\": \"white\", \"zerolinewidth\": 2}}}, \"xaxis\": {\"anchor\": \"y\", \"domain\": [0.0, 1.0], \"title\": {\"text\": \"Value\"}}, \"yaxis\": {\"anchor\": \"x\", \"domain\": [0.0, 1.0], \"title\": {\"text\": \"Pts\"}}},\n",
       "                        {\"responsive\": true}\n",
       "                    ).then(function(){\n",
       "                            \n",
       "var gd = document.getElementById('e7b5294a-8b09-42ed-9c72-b2345897083d');\n",
       "var x = new MutationObserver(function (mutations, observer) {{\n",
       "        var display = window.getComputedStyle(gd).display;\n",
       "        if (!display || display === 'none') {{\n",
       "            console.log([gd, 'removed!']);\n",
       "            Plotly.purge(gd);\n",
       "            observer.disconnect();\n",
       "        }}\n",
       "}});\n",
       "\n",
       "// Listen for the removal of the full notebook cells\n",
       "var notebookContainer = gd.closest('#notebook-container');\n",
       "if (notebookContainer) {{\n",
       "    x.observe(notebookContainer, {childList: true});\n",
       "}}\n",
       "\n",
       "// Listen for the clearing of the current output cell\n",
       "var outputEl = gd.closest('.output');\n",
       "if (outputEl) {{\n",
       "    x.observe(outputEl, {childList: true});\n",
       "}}\n",
       "\n",
       "                        })\n",
       "                };\n",
       "                });\n",
       "            </script>\n",
       "        </div>"
      ]
     },
     "metadata": {},
     "output_type": "display_data"
    }
   ],
   "source": [
    "fig = px.scatter(players, x=\"Value\", y=\"Pts\", color=None, hover_name=\"Name\")\n",
    "fig"
   ]
  },
  {
   "cell_type": "code",
   "execution_count": 212,
   "metadata": {},
   "outputs": [],
   "source": [
    "availables = players.groupby([\"Value\", \"Pts\", \"Name\", \"Pos\"]).agg('count')"
   ]
  },
  {
   "cell_type": "code",
   "execution_count": 213,
   "metadata": {},
   "outputs": [],
   "source": [
    "availables = availables.reset_index()"
   ]
  },
  {
   "cell_type": "code",
   "execution_count": 214,
   "metadata": {},
   "outputs": [],
   "source": [
    "salaries = {}\n",
    "points = {}\n",
    "teams = {},"
   ]
  },
  {
   "cell_type": "code",
   "execution_count": 215,
   "metadata": {},
   "outputs": [],
   "source": [
    "for Pos in availables.Pos.unique():\n",
    "    available_pos = availables[availables.Pos == Pos]\n",
    "    salary = list(available_pos[['Name', 'Value']].set_index(\"Name\").to_dict().values())[0]\n",
    "    point = list(available_pos[['Name', 'Pts']].set_index(\"Name\").to_dict().values())[0]\n",
    "\n",
    "    salaries[Pos] = salary\n",
    "    points[Pos] = point"
   ]
  },
  {
   "cell_type": "code",
   "execution_count": 216,
   "metadata": {},
   "outputs": [],
   "source": [
    "pos_num_available = {\n",
    "    \"QB\": 1,\n",
    "    \"RB\": 3,\n",
    "    \"WR\": 3,\n",
    "    \"TE\": 1,\n",
    "    \"K\": 1,\n",
    "    \"Def\": 1\n",
    "                    }"
   ]
  },
  {
   "cell_type": "code",
   "execution_count": 217,
   "metadata": {},
   "outputs": [],
   "source": [
    "salary_cap = 190"
   ]
  },
  {
   "cell_type": "code",
   "execution_count": 218,
   "metadata": {},
   "outputs": [],
   "source": [
    "#create lineup loop\n",
    "for lineup in range(1,166):\n",
    "    _vars = {k: LpVariable.dict(k, v, cat='Binary') for k, v in points.items()}"
   ]
  },
  {
   "cell_type": "code",
   "execution_count": 219,
   "metadata": {},
   "outputs": [],
   "source": [
    "for lineup in range(1,166):\n",
    "    _vars = {k: LpVariable.dict(k, v, cat='Binary') for k, v in points.items()}\n",
    "\n",
    "    prob = LpProblem(\"Fantasy\", LpMaximize)"
   ]
  },
  {
   "cell_type": "code",
   "execution_count": 220,
   "metadata": {},
   "outputs": [],
   "source": [
    "for lineup in range(1,166):\n",
    "    _vars = {k: LpVariable.dict(k, v, cat='Binary') for k, v in points.items()}\n",
    "\n",
    "    prob = LpProblem(\"Fantasy\", LpMaximize)\n",
    "\n",
    "    rewards = []\n",
    "    costs = []\n",
    "    position_constraints = []"
   ]
  },
  {
   "cell_type": "code",
   "execution_count": 221,
   "metadata": {},
   "outputs": [],
   "source": [
    "for lineup in range(1,166):\n",
    "    _vars = {k: LpVariable.dict(k, v, cat='Binary') for k, v in points.items()}\n",
    "\n",
    "    prob = LpProblem(\"Fantasy\", LpMaximize)\n",
    "\n",
    "    rewards = []\n",
    "    costs = []\n",
    "    position_constraints = []\n",
    "\n",
    "    for k, v in _vars.items():\n",
    "        costs += lpSum([salaries[k][i] * _vars[k][i] for i in v])\n",
    "        rewards += lpSum([points[k][i] * _vars[k][i] for i in v])\n",
    "        prob += lpSum([_vars[k][i] for i in v]) == pos_num_available[k]"
   ]
  },
  {
   "cell_type": "code",
   "execution_count": 222,
   "metadata": {},
   "outputs": [],
   "source": [
    "#add the costs(Salary) and rewards(Points) into the optimization calculation\n",
    "for lineup in range(1,166):\n",
    "    _vars = {k: LpVariable.dict(k, v, cat='Binary') for k, v in points.items()}\n",
    "\n",
    "    prob = LpProblem(\"Fantasy\", LpMaximize)\n",
    "    rewards = []\n",
    "    costs = []\n",
    "    position_constraints = []\n",
    "    total_score = []\n",
    "\n",
    "    for k, v in _vars.items():\n",
    "        costs += lpSum([salaries[k][i] * _vars[k][i] for i in v])\n",
    "        rewards += lpSum([points[k][i] * _vars[k][i] for i in v])\n",
    "        prob += lpSum([_vars[k][i] for i in v]) == pos_num_available[k]\n",
    "\n",
    "    prob += lpSum(rewards)\n",
    "    prob += lpSum(costs) <= salary_cap\n",
    "    if not lineup == 1:\n",
    "        prob += (lpSum(rewards) <= -0.01)\n",
    "    prob.solve()"
   ]
  },
  {
   "cell_type": "code",
   "execution_count": 223,
   "metadata": {},
   "outputs": [
    {
     "name": "stdout",
     "output_type": "stream",
     "text": [
      "1 1659.0\n"
     ]
    },
    {
     "ename": "TypeError",
     "evalue": "unsupported operand type(s) for -: 'list' and 'float'",
     "output_type": "error",
     "traceback": [
      "\u001b[0;31m---------------------------------------------------------------------------\u001b[0m",
      "\u001b[0;31mTypeError\u001b[0m                                 Traceback (most recent call last)",
      "\u001b[0;32m<ipython-input-223-ec3ed7fb1520>\u001b[0m in \u001b[0;36m<module>\u001b[0;34m\u001b[0m\n\u001b[1;32m     15\u001b[0m     \u001b[0mprob\u001b[0m \u001b[0;34m+=\u001b[0m \u001b[0mlpSum\u001b[0m\u001b[0;34m(\u001b[0m\u001b[0mcosts\u001b[0m\u001b[0;34m)\u001b[0m \u001b[0;34m<=\u001b[0m \u001b[0msalary_cap\u001b[0m\u001b[0;34m\u001b[0m\u001b[0;34m\u001b[0m\u001b[0m\n\u001b[1;32m     16\u001b[0m     \u001b[0;32mif\u001b[0m \u001b[0;32mnot\u001b[0m \u001b[0mlineup\u001b[0m \u001b[0;34m==\u001b[0m \u001b[0;36m1\u001b[0m\u001b[0;34m:\u001b[0m\u001b[0;34m\u001b[0m\u001b[0;34m\u001b[0m\u001b[0m\n\u001b[0;32m---> 17\u001b[0;31m         \u001b[0mprob\u001b[0m \u001b[0;34m+=\u001b[0m \u001b[0;34m(\u001b[0m\u001b[0mlpSum\u001b[0m\u001b[0;34m(\u001b[0m\u001b[0mrewards\u001b[0m\u001b[0;34m)\u001b[0m \u001b[0;34m<=\u001b[0m \u001b[0mtotal_score\u001b[0m\u001b[0;34m-\u001b[0m\u001b[0;36m0.01\u001b[0m\u001b[0;34m)\u001b[0m\u001b[0;34m\u001b[0m\u001b[0;34m\u001b[0m\u001b[0m\n\u001b[0m\u001b[1;32m     18\u001b[0m     \u001b[0mprob\u001b[0m\u001b[0;34m.\u001b[0m\u001b[0msolve\u001b[0m\u001b[0;34m(\u001b[0m\u001b[0;34m)\u001b[0m\u001b[0;34m\u001b[0m\u001b[0;34m\u001b[0m\u001b[0m\n\u001b[1;32m     19\u001b[0m \u001b[0;34m\u001b[0m\u001b[0m\n",
      "\u001b[0;31mTypeError\u001b[0m: unsupported operand type(s) for -: 'list' and 'float'"
     ]
    }
   ],
   "source": [
    "for lineup in range(1,166):\n",
    "    _vars = {k: LpVariable.dict(k, v, cat='Binary') for k, v in points.items()}\n",
    "\n",
    "    prob = LpProblem(\"Fantasy\", LpMaximize)\n",
    "    rewards = []\n",
    "    costs = []\n",
    "    position_constraints = []\n",
    "    total_score = []\n",
    "    for k, v in _vars.items():\n",
    "        costs += lpSum([salaries[k][i] * _vars[k][i] for i in v])\n",
    "        rewards += lpSum([points[k][i] * _vars[k][i] for i in v])\n",
    "        prob += lpSum([_vars[k][i] for i in v]) == pos_num_available[k]\n",
    "\n",
    "    prob += lpSum(rewards)\n",
    "    prob += lpSum(costs) <= salary_cap\n",
    "    if not lineup == 1:\n",
    "        prob += (lpSum(rewards) <= total_score-0.01)\n",
    "    prob.solve()\n",
    "\n",
    "    score= str(prob.objective)\n",
    "    constraints = [str(const) for const in prob.constraints.values()]\n",
    "    colnum = 1\n",
    "\n",
    "    for v in prob.variables():\n",
    "        score = score.replace(v.name, str(v.varValue))\n",
    "        if v.varValue !=0:\n",
    "            ws.cell(row=lineup, column=colnum).value = v.name\n",
    "            colnum +=1\n",
    "    total_score = eval(score)\n",
    "    ws.cell(row=lineup, column=colnum).value = total_score\n",
    "    print(lineup, total_score)"
   ]
  },
  {
   "cell_type": "code",
   "execution_count": null,
   "metadata": {},
   "outputs": [],
   "source": [
    "#wb.save(r\"\\playerLists\\190_3rb.xlsx\")"
   ]
  },
  {
   "cell_type": "code",
   "execution_count": null,
   "metadata": {},
   "outputs": [],
   "source": [
    "#wb.save(r\"\\playerLists\\halfsal.xlsx\")"
   ]
  },
  {
   "cell_type": "code",
   "execution_count": 142,
   "metadata": {},
   "outputs": [],
   "source": [
    "#references\n",
    "# https://www.nicksniche.net/lineup-optimization/lineup-optimizer-part-1"
   ]
  }
 ],
 "metadata": {
  "kernelspec": {
   "display_name": "Python 3",
   "language": "python",
   "name": "python3"
  },
  "language_info": {
   "codemirror_mode": {
    "name": "ipython",
    "version": 3
   },
   "file_extension": ".py",
   "mimetype": "text/x-python",
   "name": "python",
   "nbconvert_exporter": "python",
   "pygments_lexer": "ipython3",
   "version": "3.7.4"
  }
 },
 "nbformat": 4,
 "nbformat_minor": 2
}
